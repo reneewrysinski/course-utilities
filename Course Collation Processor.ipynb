{
 "cells": [
  {
   "cell_type": "code",
   "execution_count": 1,
   "metadata": {},
   "outputs": [],
   "source": [
    "import os\n",
    "import pandas as pd\n",
    "import json\n",
    "import math"
   ]
  },
  {
   "cell_type": "code",
   "execution_count": 6,
   "metadata": {},
   "outputs": [],
   "source": [
    "LOOKBACK_RANGE = 10"
   ]
  },
  {
   "cell_type": "code",
   "execution_count": 7,
   "metadata": {},
   "outputs": [],
   "source": [
    "catalog_filenames = []\n",
    "for filename in os.listdir(path = \"./catalog/\"):\n",
    "    if filename[-4:] == \".csv\":\n",
    "        catalog_filenames.append(filename)\n",
    "catalog_filenames = sorted(catalog_filenames)[-LOOKBACK_RANGE:]"
   ]
  },
  {
   "cell_type": "code",
   "execution_count": 8,
   "metadata": {},
   "outputs": [],
   "source": [
    "schedule_filenames = []\n",
    "for filename in os.listdir(path = \"./schedule/\"):\n",
    "    if filename[-4:] == \".csv\":\n",
    "        schedule_filenames.append(filename)"
   ]
  },
  {
   "cell_type": "code",
   "execution_count": 9,
   "metadata": {
    "scrolled": true
   },
   "outputs": [
    {
     "name": "stdout",
     "output_type": "stream",
     "text": [
      "2015-2016.csv\n",
      "2016-2017.csv\n",
      "2017-2018.csv\n",
      "2018-2019.csv\n",
      "2019-2020.csv\n",
      "2020-2021.csv\n",
      "2021-2022.csv\n",
      "2022-2023.csv\n",
      "2023-2024.csv\n",
      "2024-2025.csv\n"
     ]
    }
   ],
   "source": [
    "catalogs = []\n",
    "for catalog_filename in catalog_filenames:\n",
    "    print(catalog_filename)\n",
    "    catalog = pd.read_csv(\"./catalog/\" + catalog_filename, index_col=\"Course\")\n",
    "    catalogs.append(catalog)\n",
    "    \n",
    "cumulative = pd.concat(catalogs[::-1])\n",
    "cumulative = cumulative[~cumulative.index.duplicated(keep='first')]"
   ]
  },
  {
   "cell_type": "code",
   "execution_count": 10,
   "metadata": {},
   "outputs": [
    {
     "name": "stdout",
     "output_type": "stream",
     "text": [
      "['2015', '2016']\n",
      "['2016', '2017']\n",
      "['2017', '2018']\n",
      "['2018', '2019']\n",
      "['2019', '2020']\n",
      "['2020', '2021']\n",
      "['2021', '2022']\n",
      "['2022', '2023']\n",
      "['2023', '2024']\n",
      "['2024', '2025']\n"
     ]
    }
   ],
   "source": [
    "for catalog_filename in catalog_filenames:\n",
    "    yr_range = catalog_filename[:-4].split(\"-\")\n",
    "    print(yr_range)\n",
    "    \n",
    "    fall_sem = f\"Fall {yr_range[0]}\"\n",
    "    if f\"{fall_sem}.csv\" in schedule_filenames:\n",
    "        fall_schedule = pd.read_csv(f\"./schedule/{fall_sem}.csv\")\n",
    "        cumulative[fall_sem] = cumulative.index.isin(fall_schedule[\"Course\"])\n",
    "    \n",
    "    spring_sem = f\"Spring {yr_range[1]}\"\n",
    "    if f\"{spring_sem}.csv\" in schedule_filenames:\n",
    "        spring_schedule = pd.read_csv(f\"./schedule/{spring_sem}.csv\")\n",
    "        cumulative[spring_sem] = cumulative.index.isin(spring_schedule[\"Course\"])\n",
    "    \n",
    "    summer_sem = f\"Summer {yr_range[1]}\"\n",
    "    if f\"{summer_sem}.csv\" in schedule_filenames:\n",
    "        summer_schedule = pd.read_csv(f\"./schedule/{summer_sem}.csv\")\n",
    "        cumulative[summer_sem] = cumulative.index.isin(summer_schedule[\"Course\"])"
   ]
  },
  {
   "cell_type": "code",
   "execution_count": 11,
   "metadata": {},
   "outputs": [],
   "source": [
    "# Export data to CSV file\n",
    "cumulative.to_csv(\"collated.csv\")\n",
    "cumulative.to_json(\"collated.json\")"
   ]
  },
  {
   "cell_type": "code",
   "execution_count": 12,
   "metadata": {},
   "outputs": [],
   "source": [
    "new_cumulative = {column:[] for column in cumulative}\n",
    "new_cumulative[\"Course\"] = list(cumulative.index)\n",
    "for column in list(cumulative)[:5]:\n",
    "    new_cumulative[column] = cumulative[column].values.tolist()\n",
    "for column in list(cumulative)[5:]:\n",
    "    new_cumulative[column] = [int(val) for val in cumulative[column].values.tolist()]"
   ]
  },
  {
   "cell_type": "code",
   "execution_count": 13,
   "metadata": {},
   "outputs": [],
   "source": [
    "temp = new_cumulative[\"Distribution Group\"]\n",
    "new_cumulative[\"Distribution Group\"] = [\"\" if type(val) == type(.0) else val for val in temp]\n",
    "temp = new_cumulative[\"Analyzing Diversity\"]\n",
    "new_cumulative[\"Analyzing Diversity\"] = [int(type(val) != type(.0)) for val in temp]"
   ]
  },
  {
   "cell_type": "code",
   "execution_count": 14,
   "metadata": {},
   "outputs": [],
   "source": [
    "with open('collated_min.json', 'w', encoding ='utf8') as json_file:\n",
    "    json.dump(new_cumulative, json_file, ensure_ascii = False)"
   ]
  }
 ],
 "metadata": {
  "kernelspec": {
   "display_name": "myproject_kernel",
   "language": "python",
   "name": "myproject_kernel"
  },
  "language_info": {
   "codemirror_mode": {
    "name": "ipython",
    "version": 3
   },
   "file_extension": ".py",
   "mimetype": "text/x-python",
   "name": "python",
   "nbconvert_exporter": "python",
   "pygments_lexer": "ipython3",
   "version": "3.12.3"
  },
  "vscode": {
   "interpreter": {
    "hash": "5c7b89af1651d0b8571dde13640ecdccf7d5a6204171d6ab33e7c296e100e08a"
   }
  }
 },
 "nbformat": 4,
 "nbformat_minor": 4
}
