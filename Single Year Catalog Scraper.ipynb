{
 "cells": [
  {
   "cell_type": "code",
   "execution_count": 3,
   "metadata": {},
   "outputs": [],
   "source": [
    "import requests\n",
    "from bs4 import BeautifulSoup\n",
    "import pandas as pd"
   ]
  },
  {
   "cell_type": "code",
   "execution_count": 5,
   "metadata": {},
   "outputs": [],
   "source": [
    "# Grabs courses from YEAR-1 to YEAR, e.g. YEAR = 2022 grabs all course from the 2021 to 2022 academic year range\n",
    "# ONLY WORKS FROM YEAR=2004 onwards\n",
    "def scrape_year_to_csv(YEAR):\n",
    "    URL = f\"https://courses.rice.edu/admweb/!SWKSCAT.cat?p_acyr_code={YEAR}&p_action=CATASRCH&p_onebar=&p_mode=AND&p_subj_cd=&p_subj=&p_dept=&p_school=&p_df=%2B&p_submit=\"\n",
    "    page = requests.get(URL)\n",
    "    soup = BeautifulSoup(page.content, \"html.parser\")\n",
    "    table = soup.find(\"table\", class_=\"table-condensed\")\n",
    "    courses = table.find_all(\"tr\")\n",
    "    skip = True\n",
    "    data = []\n",
    "    for course in courses:\n",
    "        if skip:\n",
    "            skip = False\n",
    "            continue\n",
    "        course_code = course.find(\"td\", class_=\"cataCourse\")\n",
    "        course_code_link = course_code.find(\"a\")[\"href\"]\n",
    "        course_code = course_code.text\n",
    "        title = course.find(\"td\", class_=\"cataTitle\").text\n",
    "        for idx, item in enumerate(course.find_all(\"td\", class_=\"cataDist\")):\n",
    "            if idx == 0:\n",
    "                dist_group = item.text\n",
    "            else:\n",
    "                analyzing_div = item.text\n",
    "        credits = course.find(\"td\", class_=\"credits\").text\n",
    "        data.append([\n",
    "            course_code,\n",
    "            course_code_link,\n",
    "            title,\n",
    "            dist_group,\n",
    "            analyzing_div,\n",
    "            credits\n",
    "        ])\n",
    "    df = pd.DataFrame(data, columns=['Course', 'URL', 'Title', 'Distribution Group', 'Analyzing Diversity', 'Credits'])\n",
    "    print(f\"Scraped {len(df)} courses for {YEAR - 1}-{YEAR}\")\n",
    "    df.to_csv(f\"./catalog/{YEAR - 1}-{YEAR}.csv\", index=False)"
   ]
  },
  {
   "cell_type": "code",
   "execution_count": 7,
   "metadata": {},
   "outputs": [
    {
     "name": "stdout",
     "output_type": "stream",
     "text": [
      "Scraped 6305 courses for 2023-2024\n"
     ]
    }
   ],
   "source": [
    "scrape_year_to_csv(2024)"
   ]
  }
 ],
 "metadata": {
  "kernelspec": {
   "display_name": "myproject_kernel",
   "language": "python",
   "name": "myproject_kernel"
  },
  "language_info": {
   "codemirror_mode": {
    "name": "ipython",
    "version": 3
   },
   "file_extension": ".py",
   "mimetype": "text/x-python",
   "name": "python",
   "nbconvert_exporter": "python",
   "pygments_lexer": "ipython3",
   "version": "3.12.3"
  }
 },
 "nbformat": 4,
 "nbformat_minor": 4
}
