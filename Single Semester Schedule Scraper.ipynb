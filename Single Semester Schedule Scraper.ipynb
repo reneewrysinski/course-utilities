{
 "cells": [
  {
   "cell_type": "code",
   "execution_count": 1,
   "metadata": {},
   "outputs": [],
   "source": [
    "import requests\n",
    "from bs4 import BeautifulSoup\n",
    "import pandas as pd\n",
    "import time"
   ]
  },
  {
   "cell_type": "code",
   "execution_count": 2,
   "metadata": {},
   "outputs": [],
   "source": [
    "# Works from Summer 2004 onwards\n",
    "def scrape_sem_to_csv(YEAR, SEM):\n",
    "    if SEM == \"Fall\":\n",
    "        term = f\"{YEAR+1}{10}\"\n",
    "    elif SEM == \"Spring\":\n",
    "        term = f\"{YEAR}{20}\"\n",
    "    elif SEM == \"Summer\":\n",
    "        term = f\"{YEAR}{30}\"\n",
    "    URL = f\"https://courses.rice.edu/courses/!SWKSCAT.cat?p_action=QUERY&p_term={term}&p_ptrm=&p_crn=&p_onebar=%2B&p_mode=OR&p_subj_cd=&p_subj=&p_dept=&p_school=&p_spon_coll=&p_df=&p_insm=&p_submit=&as_ffc_field=\"\n",
    "    page = requests.get(URL)\n",
    "    soup = BeautifulSoup(page.content, \"html.parser\")\n",
    "    table = soup.find(\"table\", class_=\"table-condensed\")\n",
    "    courses = table.find_all(\"tr\")\n",
    "    skip = True\n",
    "    data = []\n",
    "    for course in courses:\n",
    "        if skip:\n",
    "            skip = False\n",
    "            continue\n",
    "        course_crn = course.find(\"td\", class_=\"cls-crn\")\n",
    "        course_crn_link = course_crn.find(\"a\")[\"href\"]\n",
    "        course_crn = course_crn.text\n",
    "        course_code = \" \".join(course.find(\"td\", class_=\"cls-crs\").text.split(\" \")[:2])\n",
    "        title = course.find(\"td\", class_=\"cls-ttl\").text\n",
    "        instructors = []\n",
    "        for item in course.find(\"td\", class_=\"cls-ins\").find_all(\"div\"):\n",
    "            instructors.append(item.text)\n",
    "        instructors = \"; \".join(instructors)\n",
    "        meetings = []\n",
    "        for item in course.find(\"td\", class_=\"cls-mtg\").find(\"div\", class_=\"mtg-clas\").find_all(\"div\"):\n",
    "            meetings.append(item.text)\n",
    "        meetings = \"\\n\".join(meetings)\n",
    "        credits = course.find(\"td\", class_=\"cls-crd\").text\n",
    "\n",
    "        data.append([course_crn, course_crn_link, course_code, title, instructors, meetings, credits])\n",
    "    df = pd.DataFrame(data, columns=['CRN', 'URL', 'Course', 'Title', 'Instructors', 'Course Meeting', 'Credits'])\n",
    "    print(f\"Scraped {len(df)} courses for the {SEM} {YEAR} semester\")\n",
    "    df.to_csv(f\"./schedule/{SEM} {YEAR}.csv\", index=False)"
   ]
  },
  {
   "cell_type": "code",
   "execution_count": 3,
   "metadata": {},
   "outputs": [
    {
     "name": "stdout",
     "output_type": "stream",
     "text": [
      "Scraped 4539 courses for the Fall 2024 semester\n",
      "Scraped 4285 courses for the Spring 2024 semester\n",
      "Scraped 1239 courses for the Summer 2024 semester\n"
     ]
    }
   ],
   "source": [
    "scrape_sem_to_csv(2024, \"Fall\")\n",
    "time.sleep(30)\n",
    "scrape_sem_to_csv(2024, \"Spring\")\n",
    "time.sleep(30)\n",
    "scrape_sem_to_csv(2024, \"Summer\")"
   ]
  },
  {
   "cell_type": "code",
   "execution_count": null,
   "metadata": {},
   "outputs": [],
   "source": [
    "t = 20\n",
    "\n",
    "for yr in range(2021, 2022):\n",
    "    \n",
    "    while True:\n",
    "        try:\n",
    "            time.sleep(t)\n",
    "            scrape_sem_to_csv(yr, \"Fall\")\n",
    "        except:\n",
    "            t += 20\n",
    "        else:\n",
    "            break\n",
    "            \n",
    "    while True:\n",
    "        try:\n",
    "            time.sleep(t)\n",
    "            scrape_sem_to_csv(yr, \"Spring\")\n",
    "        except:\n",
    "            t += 20\n",
    "        else:\n",
    "            break\n",
    "            \n",
    "    while True:\n",
    "        try:\n",
    "            time.sleep(t)\n",
    "            scrape_sem_to_csv(yr, \"Summer\")\n",
    "        except:\n",
    "            t += 20\n",
    "        else:\n",
    "            break"
   ]
  }
 ],
 "metadata": {
  "kernelspec": {
   "display_name": "myproject_kernel",
   "language": "python",
   "name": "myproject_kernel"
  },
  "language_info": {
   "codemirror_mode": {
    "name": "ipython",
    "version": 3
   },
   "file_extension": ".py",
   "mimetype": "text/x-python",
   "name": "python",
   "nbconvert_exporter": "python",
   "pygments_lexer": "ipython3",
   "version": "3.12.3"
  },
  "vscode": {
   "interpreter": {
    "hash": "5c7b89af1651d0b8571dde13640ecdccf7d5a6204171d6ab33e7c296e100e08a"
   }
  }
 },
 "nbformat": 4,
 "nbformat_minor": 4
}
