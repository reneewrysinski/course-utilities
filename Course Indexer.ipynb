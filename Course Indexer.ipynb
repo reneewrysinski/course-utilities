{
 "cells": [
  {
   "cell_type": "code",
   "execution_count": 1,
   "metadata": {},
   "outputs": [],
   "source": [
    "import pandas as pd\n",
    "import json\n",
    "from collections import defaultdict"
   ]
  },
  {
   "cell_type": "code",
   "execution_count": 2,
   "metadata": {},
   "outputs": [],
   "source": [
    "collated = pd.read_csv(\"collated.csv\")"
   ]
  },
  {
   "cell_type": "code",
   "execution_count": 3,
   "metadata": {},
   "outputs": [],
   "source": [
    "key_ref_strength = defaultdict(lambda: defaultdict(lambda: 0))\n",
    "course_list = []\n",
    "course_idx = 0\n",
    "for i in range(len(collated)):\n",
    "    course_row = collated.iloc[i]\n",
    "    course_name = course_row.Course\n",
    "    course_title = course_row.Title\n",
    "    course_list.append(course_name)\n",
    "    for word in course_name.split():\n",
    "        for word_subsection_len in range(len(word)):\n",
    "            word_subsection = word[:word_subsection_len + 1]\n",
    "            key_ref_strength[word_subsection][course_idx] += 2\n",
    "    for word in course_title.split():\n",
    "        for word_subsection_len in range(len(word)):\n",
    "            word_subsection = word[:word_subsection_len + 1]\n",
    "            key_ref_strength[word_subsection][course_idx] += 1\n",
    "    \n",
    "    course_idx += 1"
   ]
  },
  {
   "cell_type": "code",
   "execution_count": 5,
   "metadata": {},
   "outputs": [],
   "source": [
    "with open(\"index.json\", \"w\") as outfile:\n",
    "    json.dump({\n",
    "        \"indices\": course_list,\n",
    "        \"strengths\": dict(key_ref_strength)\n",
    "        }, outfile)"
   ]
  }
 ],
 "metadata": {
  "kernelspec": {
   "display_name": "myproject_kernel",
   "language": "python",
   "name": "myproject_kernel"
  },
  "language_info": {
   "codemirror_mode": {
    "name": "ipython",
    "version": 3
   },
   "file_extension": ".py",
   "mimetype": "text/x-python",
   "name": "python",
   "nbconvert_exporter": "python",
   "pygments_lexer": "ipython3",
   "version": "3.12.3"
  },
  "orig_nbformat": 4,
  "vscode": {
   "interpreter": {
    "hash": "5c7b89af1651d0b8571dde13640ecdccf7d5a6204171d6ab33e7c296e100e08a"
   }
  }
 },
 "nbformat": 4,
 "nbformat_minor": 2
}
